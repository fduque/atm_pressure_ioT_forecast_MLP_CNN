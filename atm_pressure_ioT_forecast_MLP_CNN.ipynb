{
  "nbformat": 4,
  "nbformat_minor": 0,
  "metadata": {
    "colab": {
      "name": "atm_pressure_ioT_forecast_MLP_CNN.ipynb",
      "provenance": [],
      "collapsed_sections": [],
      "authorship_tag": "ABX9TyMv1cS5bR2nuYFB2zwx51Go"
    },
    "kernelspec": {
      "name": "python3",
      "display_name": "Python 3"
    }
  },
  "cells": [
    {
      "cell_type": "markdown",
      "metadata": {
        "id": "3CoEQGiTy4tp",
        "colab_type": "text"
      },
      "source": [
        "Beijing - Polution Dataset\n",
        "\n",
        "https://archive.ics.uci.edu/ml/datasets/Beijing+PM2.5+Data\n",
        "\n"
      ]
    },
    {
      "cell_type": "code",
      "metadata": {
        "id": "AWpZ4UnupPSk",
        "colab_type": "code",
        "colab": {}
      },
      "source": [
        "import pandas as pd\n",
        "import numpy as np\n",
        "from matplotlib import pyplot as plt\n",
        "import seaborn as sns\n",
        "import datetime"
      ],
      "execution_count": 3,
      "outputs": []
    },
    {
      "cell_type": "code",
      "metadata": {
        "id": "3zTOMLqQxOkp",
        "colab_type": "code",
        "colab": {
          "resources": {
            "http://localhost:8080/nbextensions/google.colab/files.js": {
              "data": "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",
              "ok": true,
              "headers": [
                [
                  "content-type",
                  "application/javascript"
                ]
              ],
              "status": 200,
              "status_text": ""
            }
          },
          "base_uri": "https://localhost:8080/",
          "height": 90
        },
        "outputId": "41ba637f-3df5-4292-bb4f-bf2ba4c299b4"
      },
      "source": [
        "from google.colab import files\n",
        "uploaded = files.upload()"
      ],
      "execution_count": 4,
      "outputs": [
        {
          "output_type": "display_data",
          "data": {
            "text/html": [
              "\n",
              "     <input type=\"file\" id=\"files-72f7b5fc-5271-4f57-a280-b8bb4cf656ff\" name=\"files[]\" multiple disabled\n",
              "        style=\"border:none\" />\n",
              "     <output id=\"result-72f7b5fc-5271-4f57-a280-b8bb4cf656ff\">\n",
              "      Upload widget is only available when the cell has been executed in the\n",
              "      current browser session. Please rerun this cell to enable.\n",
              "      </output>\n",
              "      <script src=\"/nbextensions/google.colab/files.js\"></script> "
            ],
            "text/plain": [
              "<IPython.core.display.HTML object>"
            ]
          },
          "metadata": {
            "tags": []
          }
        },
        {
          "output_type": "stream",
          "text": [
            "Saving PRSA_data_2010.1.1-2014.12.31.csv to PRSA_data_2010.1.1-2014.12.31.csv\n"
          ],
          "name": "stdout"
        }
      ]
    },
    {
      "cell_type": "code",
      "metadata": {
        "id": "UGfQ8-dPx6_r",
        "colab_type": "code",
        "colab": {}
      },
      "source": [
        "df = pd.read_csv(\"PRSA_data_2010.1.1-2014.12.31.csv\")"
      ],
      "execution_count": 5,
      "outputs": []
    },
    {
      "cell_type": "code",
      "metadata": {
        "id": "MKL73v1UyJHC",
        "colab_type": "code",
        "colab": {
          "base_uri": "https://localhost:8080/",
          "height": 195
        },
        "outputId": "eebd2f96-feda-49c0-df94-1af84a401515"
      },
      "source": [
        "#EDA\n",
        "df.head()"
      ],
      "execution_count": 6,
      "outputs": [
        {
          "output_type": "execute_result",
          "data": {
            "text/html": [
              "<div>\n",
              "<style scoped>\n",
              "    .dataframe tbody tr th:only-of-type {\n",
              "        vertical-align: middle;\n",
              "    }\n",
              "\n",
              "    .dataframe tbody tr th {\n",
              "        vertical-align: top;\n",
              "    }\n",
              "\n",
              "    .dataframe thead th {\n",
              "        text-align: right;\n",
              "    }\n",
              "</style>\n",
              "<table border=\"1\" class=\"dataframe\">\n",
              "  <thead>\n",
              "    <tr style=\"text-align: right;\">\n",
              "      <th></th>\n",
              "      <th>No</th>\n",
              "      <th>year</th>\n",
              "      <th>month</th>\n",
              "      <th>day</th>\n",
              "      <th>hour</th>\n",
              "      <th>pm2.5</th>\n",
              "      <th>DEWP</th>\n",
              "      <th>TEMP</th>\n",
              "      <th>PRES</th>\n",
              "      <th>cbwd</th>\n",
              "      <th>Iws</th>\n",
              "      <th>Is</th>\n",
              "      <th>Ir</th>\n",
              "    </tr>\n",
              "  </thead>\n",
              "  <tbody>\n",
              "    <tr>\n",
              "      <th>0</th>\n",
              "      <td>1</td>\n",
              "      <td>2010</td>\n",
              "      <td>1</td>\n",
              "      <td>1</td>\n",
              "      <td>0</td>\n",
              "      <td>NaN</td>\n",
              "      <td>-21</td>\n",
              "      <td>-11.0</td>\n",
              "      <td>1021.0</td>\n",
              "      <td>NW</td>\n",
              "      <td>1.79</td>\n",
              "      <td>0</td>\n",
              "      <td>0</td>\n",
              "    </tr>\n",
              "    <tr>\n",
              "      <th>1</th>\n",
              "      <td>2</td>\n",
              "      <td>2010</td>\n",
              "      <td>1</td>\n",
              "      <td>1</td>\n",
              "      <td>1</td>\n",
              "      <td>NaN</td>\n",
              "      <td>-21</td>\n",
              "      <td>-12.0</td>\n",
              "      <td>1020.0</td>\n",
              "      <td>NW</td>\n",
              "      <td>4.92</td>\n",
              "      <td>0</td>\n",
              "      <td>0</td>\n",
              "    </tr>\n",
              "    <tr>\n",
              "      <th>2</th>\n",
              "      <td>3</td>\n",
              "      <td>2010</td>\n",
              "      <td>1</td>\n",
              "      <td>1</td>\n",
              "      <td>2</td>\n",
              "      <td>NaN</td>\n",
              "      <td>-21</td>\n",
              "      <td>-11.0</td>\n",
              "      <td>1019.0</td>\n",
              "      <td>NW</td>\n",
              "      <td>6.71</td>\n",
              "      <td>0</td>\n",
              "      <td>0</td>\n",
              "    </tr>\n",
              "    <tr>\n",
              "      <th>3</th>\n",
              "      <td>4</td>\n",
              "      <td>2010</td>\n",
              "      <td>1</td>\n",
              "      <td>1</td>\n",
              "      <td>3</td>\n",
              "      <td>NaN</td>\n",
              "      <td>-21</td>\n",
              "      <td>-14.0</td>\n",
              "      <td>1019.0</td>\n",
              "      <td>NW</td>\n",
              "      <td>9.84</td>\n",
              "      <td>0</td>\n",
              "      <td>0</td>\n",
              "    </tr>\n",
              "    <tr>\n",
              "      <th>4</th>\n",
              "      <td>5</td>\n",
              "      <td>2010</td>\n",
              "      <td>1</td>\n",
              "      <td>1</td>\n",
              "      <td>4</td>\n",
              "      <td>NaN</td>\n",
              "      <td>-20</td>\n",
              "      <td>-12.0</td>\n",
              "      <td>1018.0</td>\n",
              "      <td>NW</td>\n",
              "      <td>12.97</td>\n",
              "      <td>0</td>\n",
              "      <td>0</td>\n",
              "    </tr>\n",
              "  </tbody>\n",
              "</table>\n",
              "</div>"
            ],
            "text/plain": [
              "   No  year  month  day  hour  pm2.5  DEWP  TEMP    PRES cbwd    Iws  Is  Ir\n",
              "0   1  2010      1    1     0    NaN   -21 -11.0  1021.0   NW   1.79   0   0\n",
              "1   2  2010      1    1     1    NaN   -21 -12.0  1020.0   NW   4.92   0   0\n",
              "2   3  2010      1    1     2    NaN   -21 -11.0  1019.0   NW   6.71   0   0\n",
              "3   4  2010      1    1     3    NaN   -21 -14.0  1019.0   NW   9.84   0   0\n",
              "4   5  2010      1    1     4    NaN   -20 -12.0  1018.0   NW  12.97   0   0"
            ]
          },
          "metadata": {
            "tags": []
          },
          "execution_count": 6
        }
      ]
    },
    {
      "cell_type": "code",
      "metadata": {
        "id": "kjfrl6liyfAB",
        "colab_type": "code",
        "colab": {
          "base_uri": "https://localhost:8080/",
          "height": 353
        },
        "outputId": "65071f70-bfbc-444b-cfd6-96da13dac738"
      },
      "source": [
        "df.info()"
      ],
      "execution_count": 7,
      "outputs": [
        {
          "output_type": "stream",
          "text": [
            "<class 'pandas.core.frame.DataFrame'>\n",
            "RangeIndex: 43824 entries, 0 to 43823\n",
            "Data columns (total 13 columns):\n",
            " #   Column  Non-Null Count  Dtype  \n",
            "---  ------  --------------  -----  \n",
            " 0   No      43824 non-null  int64  \n",
            " 1   year    43824 non-null  int64  \n",
            " 2   month   43824 non-null  int64  \n",
            " 3   day     43824 non-null  int64  \n",
            " 4   hour    43824 non-null  int64  \n",
            " 5   pm2.5   41757 non-null  float64\n",
            " 6   DEWP    43824 non-null  int64  \n",
            " 7   TEMP    43824 non-null  float64\n",
            " 8   PRES    43824 non-null  float64\n",
            " 9   cbwd    43824 non-null  object \n",
            " 10  Iws     43824 non-null  float64\n",
            " 11  Is      43824 non-null  int64  \n",
            " 12  Ir      43824 non-null  int64  \n",
            "dtypes: float64(4), int64(8), object(1)\n",
            "memory usage: 4.3+ MB\n"
          ],
          "name": "stdout"
        }
      ]
    },
    {
      "cell_type": "code",
      "metadata": {
        "id": "t48sQh5_yiDp",
        "colab_type": "code",
        "colab": {
          "base_uri": "https://localhost:8080/",
          "height": 252
        },
        "outputId": "48ff671a-d253-428e-9a9c-2b2912919649"
      },
      "source": [
        "#checking nulls\n",
        "\n",
        "df.isnull().sum()"
      ],
      "execution_count": 8,
      "outputs": [
        {
          "output_type": "execute_result",
          "data": {
            "text/plain": [
              "No          0\n",
              "year        0\n",
              "month       0\n",
              "day         0\n",
              "hour        0\n",
              "pm2.5    2067\n",
              "DEWP        0\n",
              "TEMP        0\n",
              "PRES        0\n",
              "cbwd        0\n",
              "Iws         0\n",
              "Is          0\n",
              "Ir          0\n",
              "dtype: int64"
            ]
          },
          "metadata": {
            "tags": []
          },
          "execution_count": 8
        }
      ]
    },
    {
      "cell_type": "code",
      "metadata": {
        "id": "R0wM0oR1zLlv",
        "colab_type": "code",
        "colab": {}
      },
      "source": [
        "#getting datetime format\n",
        "\n",
        "df['datetime'] = df[['year', 'month', 'day', 'hour']].apply(lambda row: datetime.datetime(year=row['year'], month=row['month'], day=row['day'], hour=row['hour']), axis=1)"
      ],
      "execution_count": 9,
      "outputs": []
    },
    {
      "cell_type": "code",
      "metadata": {
        "id": "kVQHqsO4z0N2",
        "colab_type": "code",
        "colab": {
          "base_uri": "https://localhost:8080/",
          "height": 383
        },
        "outputId": "04d300e2-c390-45e9-b019-a8760ec16715"
      },
      "source": [
        "df.head()"
      ],
      "execution_count": 10,
      "outputs": [
        {
          "output_type": "execute_result",
          "data": {
            "text/html": [
              "<div>\n",
              "<style scoped>\n",
              "    .dataframe tbody tr th:only-of-type {\n",
              "        vertical-align: middle;\n",
              "    }\n",
              "\n",
              "    .dataframe tbody tr th {\n",
              "        vertical-align: top;\n",
              "    }\n",
              "\n",
              "    .dataframe thead th {\n",
              "        text-align: right;\n",
              "    }\n",
              "</style>\n",
              "<table border=\"1\" class=\"dataframe\">\n",
              "  <thead>\n",
              "    <tr style=\"text-align: right;\">\n",
              "      <th></th>\n",
              "      <th>No</th>\n",
              "      <th>year</th>\n",
              "      <th>month</th>\n",
              "      <th>day</th>\n",
              "      <th>hour</th>\n",
              "      <th>pm2.5</th>\n",
              "      <th>DEWP</th>\n",
              "      <th>TEMP</th>\n",
              "      <th>PRES</th>\n",
              "      <th>cbwd</th>\n",
              "      <th>Iws</th>\n",
              "      <th>Is</th>\n",
              "      <th>Ir</th>\n",
              "      <th>datetime</th>\n",
              "    </tr>\n",
              "  </thead>\n",
              "  <tbody>\n",
              "    <tr>\n",
              "      <th>0</th>\n",
              "      <td>1</td>\n",
              "      <td>2010</td>\n",
              "      <td>1</td>\n",
              "      <td>1</td>\n",
              "      <td>0</td>\n",
              "      <td>NaN</td>\n",
              "      <td>-21</td>\n",
              "      <td>-11.0</td>\n",
              "      <td>1021.0</td>\n",
              "      <td>NW</td>\n",
              "      <td>1.79</td>\n",
              "      <td>0</td>\n",
              "      <td>0</td>\n",
              "      <td>2010-01-01 00:00:00</td>\n",
              "    </tr>\n",
              "    <tr>\n",
              "      <th>1</th>\n",
              "      <td>2</td>\n",
              "      <td>2010</td>\n",
              "      <td>1</td>\n",
              "      <td>1</td>\n",
              "      <td>1</td>\n",
              "      <td>NaN</td>\n",
              "      <td>-21</td>\n",
              "      <td>-12.0</td>\n",
              "      <td>1020.0</td>\n",
              "      <td>NW</td>\n",
              "      <td>4.92</td>\n",
              "      <td>0</td>\n",
              "      <td>0</td>\n",
              "      <td>2010-01-01 01:00:00</td>\n",
              "    </tr>\n",
              "    <tr>\n",
              "      <th>2</th>\n",
              "      <td>3</td>\n",
              "      <td>2010</td>\n",
              "      <td>1</td>\n",
              "      <td>1</td>\n",
              "      <td>2</td>\n",
              "      <td>NaN</td>\n",
              "      <td>-21</td>\n",
              "      <td>-11.0</td>\n",
              "      <td>1019.0</td>\n",
              "      <td>NW</td>\n",
              "      <td>6.71</td>\n",
              "      <td>0</td>\n",
              "      <td>0</td>\n",
              "      <td>2010-01-01 02:00:00</td>\n",
              "    </tr>\n",
              "    <tr>\n",
              "      <th>3</th>\n",
              "      <td>4</td>\n",
              "      <td>2010</td>\n",
              "      <td>1</td>\n",
              "      <td>1</td>\n",
              "      <td>3</td>\n",
              "      <td>NaN</td>\n",
              "      <td>-21</td>\n",
              "      <td>-14.0</td>\n",
              "      <td>1019.0</td>\n",
              "      <td>NW</td>\n",
              "      <td>9.84</td>\n",
              "      <td>0</td>\n",
              "      <td>0</td>\n",
              "      <td>2010-01-01 03:00:00</td>\n",
              "    </tr>\n",
              "    <tr>\n",
              "      <th>4</th>\n",
              "      <td>5</td>\n",
              "      <td>2010</td>\n",
              "      <td>1</td>\n",
              "      <td>1</td>\n",
              "      <td>4</td>\n",
              "      <td>NaN</td>\n",
              "      <td>-20</td>\n",
              "      <td>-12.0</td>\n",
              "      <td>1018.0</td>\n",
              "      <td>NW</td>\n",
              "      <td>12.97</td>\n",
              "      <td>0</td>\n",
              "      <td>0</td>\n",
              "      <td>2010-01-01 04:00:00</td>\n",
              "    </tr>\n",
              "  </tbody>\n",
              "</table>\n",
              "</div>"
            ],
            "text/plain": [
              "   No  year  month  day  hour  ...  cbwd    Iws  Is  Ir            datetime\n",
              "0   1  2010      1    1     0  ...    NW   1.79   0   0 2010-01-01 00:00:00\n",
              "1   2  2010      1    1     1  ...    NW   4.92   0   0 2010-01-01 01:00:00\n",
              "2   3  2010      1    1     2  ...    NW   6.71   0   0 2010-01-01 02:00:00\n",
              "3   4  2010      1    1     3  ...    NW   9.84   0   0 2010-01-01 03:00:00\n",
              "4   5  2010      1    1     4  ...    NW  12.97   0   0 2010-01-01 04:00:00\n",
              "\n",
              "[5 rows x 14 columns]"
            ]
          },
          "metadata": {
            "tags": []
          },
          "execution_count": 10
        }
      ]
    },
    {
      "cell_type": "code",
      "metadata": {
        "id": "nMRIFxeBz2zc",
        "colab_type": "code",
        "colab": {
          "base_uri": "https://localhost:8080/",
          "height": 50
        },
        "outputId": "a551469a-75d4-4640-c7e5-fad827bf2b06"
      },
      "source": [
        "#getting Min and Max dataset dates\n",
        "print('Initial date ',df['datetime'].min())\n",
        "print('Final date ',df['datetime'].max())"
      ],
      "execution_count": 11,
      "outputs": [
        {
          "output_type": "stream",
          "text": [
            "Initial date  2010-01-01 00:00:00\n",
            "Final date  2014-12-31 23:00:00\n"
          ],
          "name": "stdout"
        }
      ]
    },
    {
      "cell_type": "code",
      "metadata": {
        "id": "luKGpD_kWKLs",
        "colab_type": "code",
        "colab": {
          "base_uri": "https://localhost:8080/",
          "height": 195
        },
        "outputId": "9ce210f1-2c36-40ac-bf69-cfc0eb43f83a"
      },
      "source": [
        "df_atmosferica = df[['datetime','PRES']] #pressure in hPa\n",
        "df_atmosferica.head()"
      ],
      "execution_count": 12,
      "outputs": [
        {
          "output_type": "execute_result",
          "data": {
            "text/html": [
              "<div>\n",
              "<style scoped>\n",
              "    .dataframe tbody tr th:only-of-type {\n",
              "        vertical-align: middle;\n",
              "    }\n",
              "\n",
              "    .dataframe tbody tr th {\n",
              "        vertical-align: top;\n",
              "    }\n",
              "\n",
              "    .dataframe thead th {\n",
              "        text-align: right;\n",
              "    }\n",
              "</style>\n",
              "<table border=\"1\" class=\"dataframe\">\n",
              "  <thead>\n",
              "    <tr style=\"text-align: right;\">\n",
              "      <th></th>\n",
              "      <th>datetime</th>\n",
              "      <th>PRES</th>\n",
              "    </tr>\n",
              "  </thead>\n",
              "  <tbody>\n",
              "    <tr>\n",
              "      <th>0</th>\n",
              "      <td>2010-01-01 00:00:00</td>\n",
              "      <td>1021.0</td>\n",
              "    </tr>\n",
              "    <tr>\n",
              "      <th>1</th>\n",
              "      <td>2010-01-01 01:00:00</td>\n",
              "      <td>1020.0</td>\n",
              "    </tr>\n",
              "    <tr>\n",
              "      <th>2</th>\n",
              "      <td>2010-01-01 02:00:00</td>\n",
              "      <td>1019.0</td>\n",
              "    </tr>\n",
              "    <tr>\n",
              "      <th>3</th>\n",
              "      <td>2010-01-01 03:00:00</td>\n",
              "      <td>1019.0</td>\n",
              "    </tr>\n",
              "    <tr>\n",
              "      <th>4</th>\n",
              "      <td>2010-01-01 04:00:00</td>\n",
              "      <td>1018.0</td>\n",
              "    </tr>\n",
              "  </tbody>\n",
              "</table>\n",
              "</div>"
            ],
            "text/plain": [
              "             datetime    PRES\n",
              "0 2010-01-01 00:00:00  1021.0\n",
              "1 2010-01-01 01:00:00  1020.0\n",
              "2 2010-01-01 02:00:00  1019.0\n",
              "3 2010-01-01 03:00:00  1019.0\n",
              "4 2010-01-01 04:00:00  1018.0"
            ]
          },
          "metadata": {
            "tags": []
          },
          "execution_count": 12
        }
      ]
    },
    {
      "cell_type": "code",
      "metadata": {
        "id": "VRZtfUEaWvyj",
        "colab_type": "code",
        "colab": {
          "base_uri": "https://localhost:8080/",
          "height": 121
        },
        "outputId": "83e165a3-6b21-4b41-dcb6-a20ca00847b5"
      },
      "source": [
        "df_atmosferica.sort_values('datetime', ascending=True, inplace=True)"
      ],
      "execution_count": 13,
      "outputs": [
        {
          "output_type": "stream",
          "text": [
            "/usr/local/lib/python3.6/dist-packages/ipykernel_launcher.py:1: SettingWithCopyWarning: \n",
            "A value is trying to be set on a copy of a slice from a DataFrame\n",
            "\n",
            "See the caveats in the documentation: https://pandas.pydata.org/pandas-docs/stable/user_guide/indexing.html#returning-a-view-versus-a-copy\n",
            "  \"\"\"Entry point for launching an IPython kernel.\n"
          ],
          "name": "stderr"
        }
      ]
    },
    {
      "cell_type": "code",
      "metadata": {
        "id": "9g7gnmYHW4Yd",
        "colab_type": "code",
        "colab": {
          "base_uri": "https://localhost:8080/",
          "height": 195
        },
        "outputId": "5ccb44a9-d2cc-47ef-bcb9-4cf90a732d84"
      },
      "source": [
        "df_atmosferica.head()"
      ],
      "execution_count": 14,
      "outputs": [
        {
          "output_type": "execute_result",
          "data": {
            "text/html": [
              "<div>\n",
              "<style scoped>\n",
              "    .dataframe tbody tr th:only-of-type {\n",
              "        vertical-align: middle;\n",
              "    }\n",
              "\n",
              "    .dataframe tbody tr th {\n",
              "        vertical-align: top;\n",
              "    }\n",
              "\n",
              "    .dataframe thead th {\n",
              "        text-align: right;\n",
              "    }\n",
              "</style>\n",
              "<table border=\"1\" class=\"dataframe\">\n",
              "  <thead>\n",
              "    <tr style=\"text-align: right;\">\n",
              "      <th></th>\n",
              "      <th>datetime</th>\n",
              "      <th>PRES</th>\n",
              "    </tr>\n",
              "  </thead>\n",
              "  <tbody>\n",
              "    <tr>\n",
              "      <th>0</th>\n",
              "      <td>2010-01-01 00:00:00</td>\n",
              "      <td>1021.0</td>\n",
              "    </tr>\n",
              "    <tr>\n",
              "      <th>1</th>\n",
              "      <td>2010-01-01 01:00:00</td>\n",
              "      <td>1020.0</td>\n",
              "    </tr>\n",
              "    <tr>\n",
              "      <th>2</th>\n",
              "      <td>2010-01-01 02:00:00</td>\n",
              "      <td>1019.0</td>\n",
              "    </tr>\n",
              "    <tr>\n",
              "      <th>3</th>\n",
              "      <td>2010-01-01 03:00:00</td>\n",
              "      <td>1019.0</td>\n",
              "    </tr>\n",
              "    <tr>\n",
              "      <th>4</th>\n",
              "      <td>2010-01-01 04:00:00</td>\n",
              "      <td>1018.0</td>\n",
              "    </tr>\n",
              "  </tbody>\n",
              "</table>\n",
              "</div>"
            ],
            "text/plain": [
              "             datetime    PRES\n",
              "0 2010-01-01 00:00:00  1021.0\n",
              "1 2010-01-01 01:00:00  1020.0\n",
              "2 2010-01-01 02:00:00  1019.0\n",
              "3 2010-01-01 03:00:00  1019.0\n",
              "4 2010-01-01 04:00:00  1018.0"
            ]
          },
          "metadata": {
            "tags": []
          },
          "execution_count": 14
        }
      ]
    },
    {
      "cell_type": "code",
      "metadata": {
        "id": "PrPEqSRlXHiq",
        "colab_type": "code",
        "colab": {
          "base_uri": "https://localhost:8080/",
          "height": 475
        },
        "outputId": "70530c07-9bc7-404a-8dfd-0b3f66a81c3b"
      },
      "source": [
        "#checking outliers\n",
        "\n",
        "plt.figure(figsize=(7,7))\n",
        "g = sns.boxplot(df_atmosferica['PRES'])\n",
        "g.set_title('Boxplot')"
      ],
      "execution_count": 15,
      "outputs": [
        {
          "output_type": "execute_result",
          "data": {
            "text/plain": [
              "Text(0.5, 1.0, 'Boxplot')"
            ]
          },
          "metadata": {
            "tags": []
          },
          "execution_count": 15
        },
        {
          "output_type": "display_data",
          "data": {
            "image/png": "[encoded data removed]",
            "text/plain": [
              "<Figure size 504x504 with 1 Axes>"
            ]
          },
          "metadata": {
            "tags": [],
            "needs_background": "light"
          }
        }
      ]
    },
    {
      "cell_type": "code",
      "metadata": {
        "id": "7NUBN70GXWsm",
        "colab_type": "code",
        "colab": {
          "base_uri": "https://localhost:8080/",
          "height": 459
        },
        "outputId": "12b0c02d-2fac-4290-8280-13b25aed76c3"
      },
      "source": [
        "#plotting data\n",
        "\n",
        "plt.figure(figsize=(7,7))\n",
        "g = sns.lineplot(x=df_atmosferica.index,y=df_atmosferica['PRES'])\n",
        "g.set_xlabel('Dataset index')\n",
        "g.set_ylabel('Atmosferic Pressure hPa')"
      ],
      "execution_count": 16,
      "outputs": [
        {
          "output_type": "execute_result",
          "data": {
            "text/plain": [
              "Text(0, 0.5, 'Atmosferic Pressure hPa')"
            ]
          },
          "metadata": {
            "tags": []
          },
          "execution_count": 16
        },
        {
          "output_type": "display_data",
          "data": {
            "image/png": "[encoded data removed]",
            "text/plain": [
              "<Figure size 504x504 with 1 Axes>"
            ]
          },
          "metadata": {
            "tags": [],
            "needs_background": "light"
          }
        }
      ]
    },
    {
      "cell_type": "markdown",
      "metadata": {
        "id": "vVRgzahHX7Bp",
        "colab_type": "text"
      },
      "source": [
        "Data preparation for neural net MLP"
      ]
    },
    {
      "cell_type": "code",
      "metadata": {
        "id": "DagUBAsTX1JA",
        "colab_type": "code",
        "colab": {
          "base_uri": "https://localhost:8080/",
          "height": 138
        },
        "outputId": "79d55e15-88f5-448f-b5c1-0328120ebe3a"
      },
      "source": [
        "from sklearn.preprocessing import MinMaxScaler\n",
        "\n",
        "scaler = MinMaxScaler(feature_range=(0,1))\n",
        "df_atmosferica['PRES_normalizado'] = scaler.fit_transform(np.array(df_atmosferica['PRES']).reshape(-1,1))"
      ],
      "execution_count": 17,
      "outputs": [
        {
          "output_type": "stream",
          "text": [
            "/usr/local/lib/python3.6/dist-packages/ipykernel_launcher.py:4: SettingWithCopyWarning: \n",
            "A value is trying to be set on a copy of a slice from a DataFrame.\n",
            "Try using .loc[row_indexer,col_indexer] = value instead\n",
            "\n",
            "See the caveats in the documentation: https://pandas.pydata.org/pandas-docs/stable/user_guide/indexing.html#returning-a-view-versus-a-copy\n",
            "  after removing the cwd from sys.path.\n"
          ],
          "name": "stderr"
        }
      ]
    },
    {
      "cell_type": "code",
      "metadata": {
        "id": "R-ErHHzjYcCW",
        "colab_type": "code",
        "colab": {
          "base_uri": "https://localhost:8080/",
          "height": 195
        },
        "outputId": "8ef35773-3702-4d6f-cb0a-af49f6c86483"
      },
      "source": [
        "df_atmosferica.head()"
      ],
      "execution_count": 18,
      "outputs": [
        {
          "output_type": "execute_result",
          "data": {
            "text/html": [
              "<div>\n",
              "<style scoped>\n",
              "    .dataframe tbody tr th:only-of-type {\n",
              "        vertical-align: middle;\n",
              "    }\n",
              "\n",
              "    .dataframe tbody tr th {\n",
              "        vertical-align: top;\n",
              "    }\n",
              "\n",
              "    .dataframe thead th {\n",
              "        text-align: right;\n",
              "    }\n",
              "</style>\n",
              "<table border=\"1\" class=\"dataframe\">\n",
              "  <thead>\n",
              "    <tr style=\"text-align: right;\">\n",
              "      <th></th>\n",
              "      <th>datetime</th>\n",
              "      <th>PRES</th>\n",
              "      <th>PRES_normalizado</th>\n",
              "    </tr>\n",
              "  </thead>\n",
              "  <tbody>\n",
              "    <tr>\n",
              "      <th>0</th>\n",
              "      <td>2010-01-01 00:00:00</td>\n",
              "      <td>1021.0</td>\n",
              "      <td>0.545455</td>\n",
              "    </tr>\n",
              "    <tr>\n",
              "      <th>1</th>\n",
              "      <td>2010-01-01 01:00:00</td>\n",
              "      <td>1020.0</td>\n",
              "      <td>0.527273</td>\n",
              "    </tr>\n",
              "    <tr>\n",
              "      <th>2</th>\n",
              "      <td>2010-01-01 02:00:00</td>\n",
              "      <td>1019.0</td>\n",
              "      <td>0.509091</td>\n",
              "    </tr>\n",
              "    <tr>\n",
              "      <th>3</th>\n",
              "      <td>2010-01-01 03:00:00</td>\n",
              "      <td>1019.0</td>\n",
              "      <td>0.509091</td>\n",
              "    </tr>\n",
              "    <tr>\n",
              "      <th>4</th>\n",
              "      <td>2010-01-01 04:00:00</td>\n",
              "      <td>1018.0</td>\n",
              "      <td>0.490909</td>\n",
              "    </tr>\n",
              "  </tbody>\n",
              "</table>\n",
              "</div>"
            ],
            "text/plain": [
              "             datetime    PRES  PRES_normalizado\n",
              "0 2010-01-01 00:00:00  1021.0          0.545455\n",
              "1 2010-01-01 01:00:00  1020.0          0.527273\n",
              "2 2010-01-01 02:00:00  1019.0          0.509091\n",
              "3 2010-01-01 03:00:00  1019.0          0.509091\n",
              "4 2010-01-01 04:00:00  1018.0          0.490909"
            ]
          },
          "metadata": {
            "tags": []
          },
          "execution_count": 18
        }
      ]
    },
    {
      "cell_type": "code",
      "metadata": {
        "id": "OtFuYtu8Yhd2",
        "colab_type": "code",
        "colab": {
          "base_uri": "https://localhost:8080/",
          "height": 50
        },
        "outputId": "9bbf46ba-0c3e-400a-b209-1831ae07ec16"
      },
      "source": [
        "#splitting train test data\n",
        "\n",
        "date_thereshold = datetime.datetime(year=2014, month=1, day=1, hour=0)\n",
        "df_trainning = df_atmosferica.loc[df_atmosferica['datetime']<date_thereshold]\n",
        "df_testing = df_atmosferica.loc[df_atmosferica['datetime']>=date_thereshold]\n",
        "print('Qty entries for trainning: ', df_trainning.shape)\n",
        "print('Qty entries for testing: ', df_testing.shape)"
      ],
      "execution_count": 19,
      "outputs": [
        {
          "output_type": "stream",
          "text": [
            "Qty entries for trainning:  (35064, 3)\n",
            "Qty entries for testing:  (8760, 3)\n"
          ],
          "name": "stdout"
        }
      ]
    },
    {
      "cell_type": "code",
      "metadata": {
        "id": "AYZYPTAsZs6m",
        "colab_type": "code",
        "colab": {
          "base_uri": "https://localhost:8080/",
          "height": 475
        },
        "outputId": "1b5f47c4-d621-4513-ec68-19d258c7d653"
      },
      "source": [
        "#checking trainning data\n",
        "\n",
        "plt.figure(figsize=(7,7))\n",
        "g = sns.lineplot(x=df_trainning.index, y=df_trainning['PRES_normalizado'], color='b')\n",
        "g.set_title('Time Series normalized - Trainning model')\n",
        "g.set_xlabel('Index')\n",
        "g.set_ylabel('Entries normalized')"
      ],
      "execution_count": 20,
      "outputs": [
        {
          "output_type": "execute_result",
          "data": {
            "text/plain": [
              "Text(0, 0.5, 'Entries normalized')"
            ]
          },
          "metadata": {
            "tags": []
          },
          "execution_count": 20
        },
        {
          "output_type": "display_data",
          "data": {
            "image/png": "[encoded data removed]",
            "text/plain": [
              "<Figure size 504x504 with 1 Axes>"
            ]
          },
          "metadata": {
            "tags": [],
            "needs_background": "light"
          }
        }
      ]
    },
    {
      "cell_type": "code",
      "metadata": {
        "id": "lNwe_AMZaUNw",
        "colab_type": "code",
        "colab": {
          "base_uri": "https://localhost:8080/",
          "height": 475
        },
        "outputId": "abc973a5-97e8-4e22-9d96-4d10123634e5"
      },
      "source": [
        "#checking testing data\n",
        "\n",
        "plt.figure(figsize=(7,7))\n",
        "g = sns.lineplot(x=df_testing.index, y=df_testing['PRES_normalizado'], color='r')\n",
        "g.set_title('Time Series normalized - Testing model')\n",
        "g.set_xlabel('Index')\n",
        "g.set_ylabel('Entries normalized')\n"
      ],
      "execution_count": 21,
      "outputs": [
        {
          "output_type": "execute_result",
          "data": {
            "text/plain": [
              "Text(0, 0.5, 'Entries normalized')"
            ]
          },
          "metadata": {
            "tags": []
          },
          "execution_count": 21
        },
        {
          "output_type": "display_data",
          "data": {
            "image/png": "[encoded data removed]",
            "text/plain": [
              "<Figure size 504x504 with 1 Axes>"
            ]
          },
          "metadata": {
            "tags": [],
            "needs_background": "light"
          }
        }
      ]
    },
    {
      "cell_type": "code",
      "metadata": {
        "id": "lY-cCKPlauQn",
        "colab_type": "code",
        "colab": {}
      },
      "source": [
        "#setting data to be used on forecasting\n",
        "\n",
        "def formata_entrada_saida(serie_temporal_original, numero_de_passos):\n",
        "  X = []\n",
        "  y = []\n",
        "  for i in range(numero_de_passos, serie_temporal_original.shape[0]):\n",
        "    X.append(list(serie_temporal_original.loc[i-numero_de_passos:i-1]))\n",
        "    y.append(serie_temporal_original.loc[i])\n",
        "  X,y = np.array(X), np.array(y)\n",
        "  return X, y"
      ],
      "execution_count": 22,
      "outputs": []
    },
    {
      "cell_type": "code",
      "metadata": {
        "id": "bvxOtzZibhRB",
        "colab_type": "code",
        "colab": {
          "base_uri": "https://localhost:8080/",
          "height": 34
        },
        "outputId": "929ce98b-b8c1-4049-c84a-3f9ce56aaad6"
      },
      "source": [
        "#formating data for trainning\n",
        "\n",
        "X_train, y_train = formata_entrada_saida(df_trainning['PRES_normalizado'],10)\n",
        "print('Data shape: ', X_train.shape, y_train.shape)"
      ],
      "execution_count": 23,
      "outputs": [
        {
          "output_type": "stream",
          "text": [
            "Data shape:  (35054, 10) (35054,)\n"
          ],
          "name": "stdout"
        }
      ]
    },
    {
      "cell_type": "code",
      "metadata": {
        "id": "EwKmbNfHb05m",
        "colab_type": "code",
        "colab": {
          "base_uri": "https://localhost:8080/",
          "height": 487
        },
        "outputId": "edb989d9-78cb-4040-d9db-449c40fbbf41"
      },
      "source": [
        "X_train[1:15,:]"
      ],
      "execution_count": 24,
      "outputs": [
        {
          "output_type": "execute_result",
          "data": {
            "text/plain": [
              "array([[0.52727273, 0.50909091, 0.50909091, 0.49090909, 0.47272727,\n",
              "        0.47272727, 0.47272727, 0.47272727, 0.47272727, 0.47272727],\n",
              "       [0.50909091, 0.50909091, 0.49090909, 0.47272727, 0.47272727,\n",
              "        0.47272727, 0.47272727, 0.47272727, 0.47272727, 0.47272727],\n",
              "       [0.50909091, 0.49090909, 0.47272727, 0.47272727, 0.47272727,\n",
              "        0.47272727, 0.47272727, 0.47272727, 0.47272727, 0.43636364],\n",
              "       [0.49090909, 0.47272727, 0.47272727, 0.47272727, 0.47272727,\n",
              "        0.47272727, 0.47272727, 0.47272727, 0.43636364, 0.43636364],\n",
              "       [0.47272727, 0.47272727, 0.47272727, 0.47272727, 0.47272727,\n",
              "        0.47272727, 0.47272727, 0.43636364, 0.43636364, 0.41818182],\n",
              "       [0.47272727, 0.47272727, 0.47272727, 0.47272727, 0.47272727,\n",
              "        0.47272727, 0.43636364, 0.43636364, 0.41818182, 0.41818182],\n",
              "       [0.47272727, 0.47272727, 0.47272727, 0.47272727, 0.47272727,\n",
              "        0.43636364, 0.43636364, 0.41818182, 0.41818182, 0.43636364],\n",
              "       [0.47272727, 0.47272727, 0.47272727, 0.47272727, 0.43636364,\n",
              "        0.43636364, 0.41818182, 0.41818182, 0.43636364, 0.43636364],\n",
              "       [0.47272727, 0.47272727, 0.47272727, 0.43636364, 0.43636364,\n",
              "        0.41818182, 0.41818182, 0.43636364, 0.43636364, 0.45454545],\n",
              "       [0.47272727, 0.47272727, 0.43636364, 0.43636364, 0.41818182,\n",
              "        0.41818182, 0.43636364, 0.43636364, 0.45454545, 0.47272727],\n",
              "       [0.47272727, 0.43636364, 0.43636364, 0.41818182, 0.41818182,\n",
              "        0.43636364, 0.43636364, 0.45454545, 0.47272727, 0.47272727],\n",
              "       [0.43636364, 0.43636364, 0.41818182, 0.41818182, 0.43636364,\n",
              "        0.43636364, 0.45454545, 0.47272727, 0.47272727, 0.49090909],\n",
              "       [0.43636364, 0.41818182, 0.41818182, 0.43636364, 0.43636364,\n",
              "        0.45454545, 0.47272727, 0.47272727, 0.49090909, 0.49090909],\n",
              "       [0.41818182, 0.41818182, 0.43636364, 0.43636364, 0.45454545,\n",
              "        0.47272727, 0.47272727, 0.49090909, 0.49090909, 0.52727273]])"
            ]
          },
          "metadata": {
            "tags": []
          },
          "execution_count": 24
        }
      ]
    },
    {
      "cell_type": "code",
      "metadata": {
        "id": "cKB7LUWSb9CM",
        "colab_type": "code",
        "colab": {
          "base_uri": "https://localhost:8080/",
          "height": 34
        },
        "outputId": "4195115d-89e2-44e3-9d79-c10ad6c02877"
      },
      "source": [
        "X_test, y_test = formata_entrada_saida(df_testing['PRES_normalizado'].reset_index(drop=True),10)\n",
        "print('Data shape: ', X_test.shape, y_test.shape)"
      ],
      "execution_count": 25,
      "outputs": [
        {
          "output_type": "stream",
          "text": [
            "Data shape:  (8750, 10) (8750,)\n"
          ],
          "name": "stdout"
        }
      ]
    },
    {
      "cell_type": "code",
      "metadata": {
        "id": "GZDJlbGUcXYq",
        "colab_type": "code",
        "colab": {
          "base_uri": "https://localhost:8080/",
          "height": 487
        },
        "outputId": "1a864bc4-c55e-4734-fd81-ea0da6b80c6a"
      },
      "source": [
        "X_test[1:15,:]"
      ],
      "execution_count": 26,
      "outputs": [
        {
          "output_type": "execute_result",
          "data": {
            "text/plain": [
              "array([[0.4       , 0.4       , 0.4       , 0.38181818, 0.38181818,\n",
              "        0.38181818, 0.4       , 0.4       , 0.41818182, 0.43636364],\n",
              "       [0.4       , 0.4       , 0.38181818, 0.38181818, 0.38181818,\n",
              "        0.4       , 0.4       , 0.41818182, 0.43636364, 0.43636364],\n",
              "       [0.4       , 0.38181818, 0.38181818, 0.38181818, 0.4       ,\n",
              "        0.4       , 0.41818182, 0.43636364, 0.43636364, 0.43636364],\n",
              "       [0.38181818, 0.38181818, 0.38181818, 0.4       , 0.4       ,\n",
              "        0.41818182, 0.43636364, 0.43636364, 0.43636364, 0.41818182],\n",
              "       [0.38181818, 0.38181818, 0.4       , 0.4       , 0.41818182,\n",
              "        0.43636364, 0.43636364, 0.43636364, 0.41818182, 0.41818182],\n",
              "       [0.38181818, 0.4       , 0.4       , 0.41818182, 0.43636364,\n",
              "        0.43636364, 0.43636364, 0.41818182, 0.41818182, 0.41818182],\n",
              "       [0.4       , 0.4       , 0.41818182, 0.43636364, 0.43636364,\n",
              "        0.43636364, 0.41818182, 0.41818182, 0.41818182, 0.41818182],\n",
              "       [0.4       , 0.41818182, 0.43636364, 0.43636364, 0.43636364,\n",
              "        0.41818182, 0.41818182, 0.41818182, 0.41818182, 0.43636364],\n",
              "       [0.41818182, 0.43636364, 0.43636364, 0.43636364, 0.41818182,\n",
              "        0.41818182, 0.41818182, 0.41818182, 0.43636364, 0.43636364],\n",
              "       [0.43636364, 0.43636364, 0.43636364, 0.41818182, 0.41818182,\n",
              "        0.41818182, 0.41818182, 0.43636364, 0.43636364, 0.45454545],\n",
              "       [0.43636364, 0.43636364, 0.41818182, 0.41818182, 0.41818182,\n",
              "        0.41818182, 0.43636364, 0.43636364, 0.45454545, 0.47272727],\n",
              "       [0.43636364, 0.41818182, 0.41818182, 0.41818182, 0.41818182,\n",
              "        0.43636364, 0.43636364, 0.45454545, 0.47272727, 0.47272727],\n",
              "       [0.41818182, 0.41818182, 0.41818182, 0.41818182, 0.43636364,\n",
              "        0.43636364, 0.45454545, 0.47272727, 0.47272727, 0.49090909],\n",
              "       [0.41818182, 0.41818182, 0.41818182, 0.43636364, 0.43636364,\n",
              "        0.45454545, 0.47272727, 0.47272727, 0.49090909, 0.50909091]])"
            ]
          },
          "metadata": {
            "tags": []
          },
          "execution_count": 26
        }
      ]
    },
    {
      "cell_type": "markdown",
      "metadata": {
        "id": "r2Syw64xc0ah",
        "colab_type": "text"
      },
      "source": [
        "Modeling MLP (Multi Layer Perceptron) Network"
      ]
    },
    {
      "cell_type": "code",
      "metadata": {
        "id": "NPMtZxX6ciSz",
        "colab_type": "code",
        "colab": {}
      },
      "source": [
        "import tensorflow as tf\n",
        "from tensorflow.keras.layers import Dense, Input, Dropout\n",
        "from tensorflow.keras.optimizers import SGD #set optimization model gradient descent"
      ],
      "execution_count": 27,
      "outputs": []
    },
    {
      "cell_type": "code",
      "metadata": {
        "id": "LPyj-dLDdTnj",
        "colab_type": "code",
        "colab": {}
      },
      "source": [
        "#set entrance layer\n",
        "\n",
        "input_layer = Input(shape=(10,), dtype='float32')"
      ],
      "execution_count": 28,
      "outputs": []
    },
    {
      "cell_type": "code",
      "metadata": {
        "id": "TYr3uAVwdkQR",
        "colab_type": "code",
        "colab": {}
      },
      "source": [
        "#adding hidden layers\n",
        "\n",
        "dense_layer1 = Dense(32, activation='linear')(input_layer)\n",
        "dense_layer2 = Dense(16, activation='linear')(dense_layer1)\n",
        "dense_layer3 = Dense(16, activation='linear')(dense_layer2)"
      ],
      "execution_count": 29,
      "outputs": []
    },
    {
      "cell_type": "code",
      "metadata": {
        "id": "gpkTibH_eHyi",
        "colab_type": "code",
        "colab": {}
      },
      "source": [
        "#adding dropout layer\n",
        "#its a way to regularize the model\n",
        "#it helps to avoid overfitting\n",
        "\n",
        "dropout_layer = Dropout(0.2)(dense_layer3)"
      ],
      "execution_count": 30,
      "outputs": []
    },
    {
      "cell_type": "code",
      "metadata": {
        "id": "0EfeCnmvJgnD",
        "colab_type": "code",
        "colab": {}
      },
      "source": [
        "#exit layer\n",
        "#one dimension, because we want to predict hPa based previous data\n",
        "output_layer = Dense(1, activation='linear')(dropout_layer)"
      ],
      "execution_count": 31,
      "outputs": []
    },
    {
      "cell_type": "code",
      "metadata": {
        "id": "DvewwT-wKouw",
        "colab_type": "code",
        "colab": {}
      },
      "source": [
        "#setting up the model\n",
        "model_MLP = tf.keras.Model(inputs=input_layer,outputs=output_layer)"
      ],
      "execution_count": 32,
      "outputs": []
    },
    {
      "cell_type": "code",
      "metadata": {
        "id": "VCw7HNvgK3Eh",
        "colab_type": "code",
        "colab": {
          "base_uri": "https://localhost:8080/",
          "height": 353
        },
        "outputId": "e0b8fe85-b3ae-4eaf-d87c-410003ff129c"
      },
      "source": [
        "#showing the model\n",
        "model_MLP.summary()"
      ],
      "execution_count": 33,
      "outputs": [
        {
          "output_type": "stream",
          "text": [
            "Model: \"model\"\n",
            "_________________________________________________________________\n",
            "Layer (type)                 Output Shape              Param #   \n",
            "=================================================================\n",
            "input_1 (InputLayer)         [(None, 10)]              0         \n",
            "_________________________________________________________________\n",
            "dense (Dense)                (None, 32)                352       \n",
            "_________________________________________________________________\n",
            "dense_1 (Dense)              (None, 16)                528       \n",
            "_________________________________________________________________\n",
            "dense_2 (Dense)              (None, 16)                272       \n",
            "_________________________________________________________________\n",
            "dropout (Dropout)            (None, 16)                0         \n",
            "_________________________________________________________________\n",
            "dense_3 (Dense)              (None, 1)                 17        \n",
            "=================================================================\n",
            "Total params: 1,169\n",
            "Trainable params: 1,169\n",
            "Non-trainable params: 0\n",
            "_________________________________________________________________\n"
          ],
          "name": "stdout"
        }
      ]
    },
    {
      "cell_type": "code",
      "metadata": {
        "id": "bx5sZrmNLIfv",
        "colab_type": "code",
        "colab": {}
      },
      "source": [
        "#setting up the error function and the optimizer to be utilized\n",
        "model_MLP.compile(loss='mean_squared_error', optimizer='adam')"
      ],
      "execution_count": 34,
      "outputs": []
    },
    {
      "cell_type": "code",
      "metadata": {
        "id": "SHIVoLIyLXuV",
        "colab_type": "code",
        "colab": {
          "base_uri": "https://localhost:8080/",
          "height": 706
        },
        "outputId": "8c8e39eb-94c8-4780-83fb-8e0fdccd9e4f"
      },
      "source": [
        "#trainning the model\n",
        "model_MLP.fit(x=X_train,y=y_train,batch_size=16,epochs=20, verbose=1,shuffle=True)"
      ],
      "execution_count": 35,
      "outputs": [
        {
          "output_type": "stream",
          "text": [
            "Epoch 1/20\n",
            "2191/2191 [==============================] - 3s 1ms/step - loss: 0.0030\n",
            "Epoch 2/20\n",
            "2191/2191 [==============================] - 3s 1ms/step - loss: 9.7895e-04\n",
            "Epoch 3/20\n",
            "2191/2191 [==============================] - 3s 1ms/step - loss: 8.4590e-04\n",
            "Epoch 4/20\n",
            "2191/2191 [==============================] - 3s 1ms/step - loss: 8.3899e-04\n",
            "Epoch 5/20\n",
            "2191/2191 [==============================] - 3s 1ms/step - loss: 7.8937e-04\n",
            "Epoch 6/20\n",
            "2191/2191 [==============================] - 3s 1ms/step - loss: 7.7416e-04\n",
            "Epoch 7/20\n",
            "2191/2191 [==============================] - 3s 1ms/step - loss: 7.8282e-04\n",
            "Epoch 8/20\n",
            "2191/2191 [==============================] - 3s 1ms/step - loss: 7.7683e-04\n",
            "Epoch 9/20\n",
            "2191/2191 [==============================] - 3s 1ms/step - loss: 7.8058e-04\n",
            "Epoch 10/20\n",
            "2191/2191 [==============================] - 3s 1ms/step - loss: 7.6980e-04\n",
            "Epoch 11/20\n",
            "2191/2191 [==============================] - 3s 1ms/step - loss: 7.6401e-04\n",
            "Epoch 12/20\n",
            "2191/2191 [==============================] - 3s 1ms/step - loss: 7.6644e-04\n",
            "Epoch 13/20\n",
            "2191/2191 [==============================] - 3s 1ms/step - loss: 7.6517e-04\n",
            "Epoch 14/20\n",
            "2191/2191 [==============================] - 3s 1ms/step - loss: 7.5790e-04\n",
            "Epoch 15/20\n",
            "2191/2191 [==============================] - 3s 1ms/step - loss: 7.6408e-04\n",
            "Epoch 16/20\n",
            "2191/2191 [==============================] - 3s 1ms/step - loss: 7.5636e-04\n",
            "Epoch 17/20\n",
            "2191/2191 [==============================] - 3s 1ms/step - loss: 7.4000e-04\n",
            "Epoch 18/20\n",
            "2191/2191 [==============================] - 3s 1ms/step - loss: 7.4110e-04\n",
            "Epoch 19/20\n",
            "2191/2191 [==============================] - 3s 1ms/step - loss: 7.7316e-04\n",
            "Epoch 20/20\n",
            "2191/2191 [==============================] - 3s 1ms/step - loss: 7.4812e-04\n"
          ],
          "name": "stdout"
        },
        {
          "output_type": "execute_result",
          "data": {
            "text/plain": [
              "<tensorflow.python.keras.callbacks.History at 0x7fb1dbe3d198>"
            ]
          },
          "metadata": {
            "tags": []
          },
          "execution_count": 35
        }
      ]
    },
    {
      "cell_type": "code",
      "metadata": {
        "id": "fSZtv6ORLcIk",
        "colab_type": "code",
        "colab": {
          "base_uri": "https://localhost:8080/",
          "height": 34
        },
        "outputId": "66e049f8-611d-4f38-bb53-c5f998b90df6"
      },
      "source": [
        "#making prediction\n",
        "\n",
        "predict = model_MLP.predict(X_test)\n",
        "predict_PRES = scaler.inverse_transform(predict)\n",
        "predict_PRES.shape"
      ],
      "execution_count": 36,
      "outputs": [
        {
          "output_type": "execute_result",
          "data": {
            "text/plain": [
              "(8750, 1)"
            ]
          },
          "metadata": {
            "tags": []
          },
          "execution_count": 36
        }
      ]
    },
    {
      "cell_type": "code",
      "metadata": {
        "id": "GKGOUT8mL-Gm",
        "colab_type": "code",
        "colab": {
          "base_uri": "https://localhost:8080/",
          "height": 34
        },
        "outputId": "c6eb5fda-6b20-4762-f896-9c0f0d38bd99"
      },
      "source": [
        "#removing one dimension\n",
        "\n",
        "predict_PRES = np.squeeze(predict_PRES)\n",
        "predict_PRES.shape"
      ],
      "execution_count": 37,
      "outputs": [
        {
          "output_type": "execute_result",
          "data": {
            "text/plain": [
              "(8750,)"
            ]
          },
          "metadata": {
            "tags": []
          },
          "execution_count": 37
        }
      ]
    },
    {
      "cell_type": "code",
      "metadata": {
        "id": "PmSODK-0MR6S",
        "colab_type": "code",
        "colab": {}
      },
      "source": [
        "from sklearn.metrics import r2_score"
      ],
      "execution_count": 38,
      "outputs": []
    },
    {
      "cell_type": "code",
      "metadata": {
        "id": "zG-VZ4k5MiOJ",
        "colab_type": "code",
        "colab": {
          "base_uri": "https://localhost:8080/",
          "height": 34
        },
        "outputId": "d94127af-b262-4445-9952-ce4112026df8"
      },
      "source": [
        "r2 = r2_score(df_testing['PRES'].iloc[10:], predict_PRES)\n",
        "print('R2 Score for MLP ', round(r2,4))"
      ],
      "execution_count": 39,
      "outputs": [
        {
          "output_type": "stream",
          "text": [
            "R2 Score for MLP  0.9957\n"
          ],
          "name": "stdout"
        }
      ]
    },
    {
      "cell_type": "code",
      "metadata": {
        "id": "lVvlbMibM58I",
        "colab_type": "code",
        "colab": {
          "base_uri": "https://localhost:8080/",
          "height": 475
        },
        "outputId": "4ac90ed3-e639-49c4-cd79-ce4cfbaaaba8"
      },
      "source": [
        "#plotting predict vs real\n",
        "\n",
        "plt.figure(figsize=(7,7))\n",
        "plt.plot(range(50), df_testing['PRES'].iloc[10:60], linestyle='-',marker='*', color='r')\n",
        "plt.plot(range(50), predict_PRES[:50], linestyle='-',marker='.', color='b')\n",
        "plt.legend(['Real','Predict'], loc=2)\n",
        "plt.title('hPa Real vs Predicted MLP')\n",
        "plt.ylabel('ATM Pressure')\n",
        "plt.xlabel('Index')"
      ],
      "execution_count": 40,
      "outputs": [
        {
          "output_type": "execute_result",
          "data": {
            "text/plain": [
              "Text(0.5, 0, 'Index')"
            ]
          },
          "metadata": {
            "tags": []
          },
          "execution_count": 40
        },
        {
          "output_type": "display_data",
          "data": {
            "image/png": "[encoded data removed]",
            "text/plain": [
              "<Figure size 504x504 with 1 Axes>"
            ]
          },
          "metadata": {
            "tags": [],
            "needs_background": "light"
          }
        }
      ]
    },
    {
      "cell_type": "markdown",
      "metadata": {
        "id": "4rfTY8JRN_-M",
        "colab_type": "text"
      },
      "source": [
        "Applying CNN - Model"
      ]
    },
    {
      "cell_type": "code",
      "metadata": {
        "id": "x4HwVpvqN6ny",
        "colab_type": "code",
        "colab": {}
      },
      "source": [
        "from tensorflow.keras.layers import Flatten #transform data in one dimension\n",
        "from tensorflow.keras.layers import ZeroPadding1D #complete data after convolution\n",
        "from tensorflow.keras.layers import Conv1D #convolutional layer\n",
        "from tensorflow.keras.layers import AveragePooling1D #average layer for data reduction"
      ],
      "execution_count": 41,
      "outputs": []
    },
    {
      "cell_type": "code",
      "metadata": {
        "id": "VgWrCRaNOqCZ",
        "colab_type": "code",
        "colab": {}
      },
      "source": [
        "#input layer\n",
        "input_layer = Input(shape=(10,1),dtype='float32')"
      ],
      "execution_count": 42,
      "outputs": []
    },
    {
      "cell_type": "code",
      "metadata": {
        "id": "705UOPXqO2z-",
        "colab_type": "code",
        "colab": {}
      },
      "source": [
        "#add padding layer\n",
        "layer_padding = ZeroPadding1D(padding=1)(input_layer) #keep the same data amount"
      ],
      "execution_count": 43,
      "outputs": []
    },
    {
      "cell_type": "code",
      "metadata": {
        "id": "EOrz1WPCPD-5",
        "colab_type": "code",
        "colab": {}
      },
      "source": [
        "#concolutional layer\n",
        "layer_convolution_1d = Conv1D(64,3,strides=1,use_bias=True)(layer_padding)"
      ],
      "execution_count": 44,
      "outputs": []
    },
    {
      "cell_type": "code",
      "metadata": {
        "id": "8GPAnmgNPPBR",
        "colab_type": "code",
        "colab": {}
      },
      "source": [
        "#pooling layer\n",
        "layer_pooling = AveragePooling1D(pool_size=3,strides=1)(layer_convolution_1d)"
      ],
      "execution_count": 45,
      "outputs": []
    },
    {
      "cell_type": "code",
      "metadata": {
        "id": "NxYTS0c5Pd4B",
        "colab_type": "code",
        "colab": {}
      },
      "source": [
        "#flatten layer\n",
        "layer_flatten = Flatten()(layer_pooling) #applied to reshape data from a vector"
      ],
      "execution_count": 46,
      "outputs": []
    },
    {
      "cell_type": "code",
      "metadata": {
        "id": "dGbed8YpPk3w",
        "colab_type": "code",
        "colab": {}
      },
      "source": [
        "#adding dropout layer\n",
        "layer_dropout_cnn = Dropout(0.2)(layer_flatten)"
      ],
      "execution_count": 47,
      "outputs": []
    },
    {
      "cell_type": "code",
      "metadata": {
        "id": "x_DXv5yOPvny",
        "colab_type": "code",
        "colab": {}
      },
      "source": [
        "#output layer\n",
        "layer_output = Dense(1,activation='linear')(layer_dropout_cnn)"
      ],
      "execution_count": 48,
      "outputs": []
    },
    {
      "cell_type": "code",
      "metadata": {
        "id": "M5vq1FM8QAqO",
        "colab_type": "code",
        "colab": {}
      },
      "source": [
        "#building a model\n",
        "model_cnn = tf.keras.Model(inputs=input_layer,outputs=layer_output)"
      ],
      "execution_count": 49,
      "outputs": []
    },
    {
      "cell_type": "code",
      "metadata": {
        "id": "pfreD4rVQJ_m",
        "colab_type": "code",
        "colab": {
          "base_uri": "https://localhost:8080/",
          "height": 386
        },
        "outputId": "173a98c4-2d7a-47ab-b55a-db2c88bcbf7b"
      },
      "source": [
        "#showing the model\n",
        "model_cnn.summary()"
      ],
      "execution_count": 50,
      "outputs": [
        {
          "output_type": "stream",
          "text": [
            "Model: \"model_1\"\n",
            "_________________________________________________________________\n",
            "Layer (type)                 Output Shape              Param #   \n",
            "=================================================================\n",
            "input_2 (InputLayer)         [(None, 10, 1)]           0         \n",
            "_________________________________________________________________\n",
            "zero_padding1d (ZeroPadding1 (None, 12, 1)             0         \n",
            "_________________________________________________________________\n",
            "conv1d (Conv1D)              (None, 10, 64)            256       \n",
            "_________________________________________________________________\n",
            "average_pooling1d (AveragePo (None, 8, 64)             0         \n",
            "_________________________________________________________________\n",
            "flatten (Flatten)            (None, 512)               0         \n",
            "_________________________________________________________________\n",
            "dropout_1 (Dropout)          (None, 512)               0         \n",
            "_________________________________________________________________\n",
            "dense_4 (Dense)              (None, 1)                 513       \n",
            "=================================================================\n",
            "Total params: 769\n",
            "Trainable params: 769\n",
            "Non-trainable params: 0\n",
            "_________________________________________________________________\n"
          ],
          "name": "stdout"
        }
      ]
    },
    {
      "cell_type": "code",
      "metadata": {
        "id": "i1fbyW5pRqk1",
        "colab_type": "code",
        "colab": {}
      },
      "source": [
        "#adding loss function and optimizer\n",
        "model_cnn.compile(loss='mean_absolute_error', optimizer='adam')"
      ],
      "execution_count": 51,
      "outputs": []
    },
    {
      "cell_type": "code",
      "metadata": {
        "id": "uMs9f58iR_mU",
        "colab_type": "code",
        "colab": {}
      },
      "source": [
        "#transform trainning and testing data to 3D, because CNN requires it\n",
        "X_train,X_test = X_train.reshape((X_train.shape[0], X_train.shape[1], 1)),X_test.reshape((X_test.shape[0],X_test.shape[1], 1))"
      ],
      "execution_count": 52,
      "outputs": []
    },
    {
      "cell_type": "code",
      "metadata": {
        "id": "FlZAFlnoS6MP",
        "colab_type": "code",
        "colab": {
          "base_uri": "https://localhost:8080/",
          "height": 34
        },
        "outputId": "9e094cee-520e-4a99-a2fe-f214efa1d924"
      },
      "source": [
        "print('Data shape for trainning and test',X_train.shape, X_test.shape)"
      ],
      "execution_count": 53,
      "outputs": [
        {
          "output_type": "stream",
          "text": [
            "Data shape for trainning and test (35054, 10, 1) (8750, 10, 1)\n"
          ],
          "name": "stdout"
        }
      ]
    },
    {
      "cell_type": "code",
      "metadata": {
        "id": "ZpWS7c2UTHv-",
        "colab_type": "code",
        "colab": {
          "base_uri": "https://localhost:8080/",
          "height": 706
        },
        "outputId": "6f6cf794-669f-462d-a97e-b99d427fa996"
      },
      "source": [
        "#trainning the model\n",
        "model_cnn.fit(x=X_train,y=y_train,batch_size=16,epochs=20,verbose=1,shuffle=True)"
      ],
      "execution_count": 54,
      "outputs": [
        {
          "output_type": "stream",
          "text": [
            "Epoch 1/20\n",
            "2191/2191 [==============================] - 3s 1ms/step - loss: 0.0275\n",
            "Epoch 2/20\n",
            "2191/2191 [==============================] - 3s 1ms/step - loss: 0.0177\n",
            "Epoch 3/20\n",
            "2191/2191 [==============================] - 3s 1ms/step - loss: 0.0155\n",
            "Epoch 4/20\n",
            "2191/2191 [==============================] - 3s 1ms/step - loss: 0.0144\n",
            "Epoch 5/20\n",
            "2191/2191 [==============================] - 3s 1ms/step - loss: 0.0143\n",
            "Epoch 6/20\n",
            "2191/2191 [==============================] - 3s 1ms/step - loss: 0.0138\n",
            "Epoch 7/20\n",
            "2191/2191 [==============================] - 3s 1ms/step - loss: 0.0137\n",
            "Epoch 8/20\n",
            "2191/2191 [==============================] - 3s 1ms/step - loss: 0.0135\n",
            "Epoch 9/20\n",
            "2191/2191 [==============================] - 3s 1ms/step - loss: 0.0138\n",
            "Epoch 10/20\n",
            "2191/2191 [==============================] - 3s 1ms/step - loss: 0.0135\n",
            "Epoch 11/20\n",
            "2191/2191 [==============================] - 3s 1ms/step - loss: 0.0134\n",
            "Epoch 12/20\n",
            "2191/2191 [==============================] - 3s 1ms/step - loss: 0.0136\n",
            "Epoch 13/20\n",
            "2191/2191 [==============================] - 3s 1ms/step - loss: 0.0135\n",
            "Epoch 14/20\n",
            "2191/2191 [==============================] - 3s 2ms/step - loss: 0.0134\n",
            "Epoch 15/20\n",
            "2191/2191 [==============================] - 3s 1ms/step - loss: 0.0131\n",
            "Epoch 16/20\n",
            "2191/2191 [==============================] - 3s 1ms/step - loss: 0.0133\n",
            "Epoch 17/20\n",
            "2191/2191 [==============================] - 3s 1ms/step - loss: 0.0134\n",
            "Epoch 18/20\n",
            "2191/2191 [==============================] - 3s 2ms/step - loss: 0.0132\n",
            "Epoch 19/20\n",
            "2191/2191 [==============================] - 3s 1ms/step - loss: 0.0132\n",
            "Epoch 20/20\n",
            "2191/2191 [==============================] - 3s 1ms/step - loss: 0.0132\n"
          ],
          "name": "stdout"
        },
        {
          "output_type": "execute_result",
          "data": {
            "text/plain": [
              "<tensorflow.python.keras.callbacks.History at 0x7fb1d8a1f5c0>"
            ]
          },
          "metadata": {
            "tags": []
          },
          "execution_count": 54
        }
      ]
    },
    {
      "cell_type": "code",
      "metadata": {
        "id": "KlOWg1NKTX2v",
        "colab_type": "code",
        "colab": {}
      },
      "source": [
        "#forecast CNN\n",
        "predict_cnn = model_cnn.predict(X_test)\n",
        "PRES_cnn = np.squeeze(scaler.inverse_transform(predict_cnn))"
      ],
      "execution_count": 55,
      "outputs": []
    },
    {
      "cell_type": "code",
      "metadata": {
        "id": "t6bRCTJLTrxK",
        "colab_type": "code",
        "colab": {
          "base_uri": "https://localhost:8080/",
          "height": 34
        },
        "outputId": "94d55d79-4ee9-4b7b-d6b9-9269bbfe1dc1"
      },
      "source": [
        "#r2 score\n",
        "r2_cnn = r2_score(df_testing['PRES'].iloc[10:], PRES_cnn)\n",
        "print(' r2 score ',round(r2_cnn,4))"
      ],
      "execution_count": 56,
      "outputs": [
        {
          "output_type": "stream",
          "text": [
            " r2 score  0.995\n"
          ],
          "name": "stdout"
        }
      ]
    },
    {
      "cell_type": "code",
      "metadata": {
        "id": "jhA_J312UMUk",
        "colab_type": "code",
        "colab": {
          "base_uri": "https://localhost:8080/",
          "height": 475
        },
        "outputId": "66666175-519a-4689-f6c9-92145b630963"
      },
      "source": [
        "#plotting predict vs real\n",
        "\n",
        "plt.figure(figsize=(7,7))\n",
        "plt.plot(range(50), df_testing['PRES'].iloc[10:60], linestyle='-',marker='*', color='r')\n",
        "plt.plot(range(50), PRES_cnn[:50], linestyle='-',marker='.', color='b')\n",
        "plt.legend(['Real','Predict'], loc=2)\n",
        "plt.title('hPa Real vs Predicted CNN')\n",
        "plt.ylabel('ATM Pressure')\n",
        "plt.xlabel('Index')"
      ],
      "execution_count": 57,
      "outputs": [
        {
          "output_type": "execute_result",
          "data": {
            "text/plain": [
              "Text(0.5, 0, 'Index')"
            ]
          },
          "metadata": {
            "tags": []
          },
          "execution_count": 57
        },
        {
          "output_type": "display_data",
          "data": {
            "image/png": "[encoded data removed]",
            "text/plain": [
              "<Figure size 504x504 with 1 Axes>"
            ]
          },
          "metadata": {
            "tags": [],
            "needs_background": "light"
          }
        }
      ]
    },
    {
      "cell_type": "code",
      "metadata": {
        "id": "1-V0I42DUakv",
        "colab_type": "code",
        "colab": {}
      },
      "source": [
        ""
      ],
      "execution_count": 57,
      "outputs": []
    }
  ]
}